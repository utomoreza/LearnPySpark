{
 "cells": [
  {
   "cell_type": "code",
   "execution_count": 1,
   "metadata": {},
   "outputs": [],
   "source": [
    "import pandas as pd"
   ]
  },
  {
   "cell_type": "code",
   "execution_count": 2,
   "metadata": {},
   "outputs": [],
   "source": [
    "from pyspark.sql import Row"
   ]
  },
  {
   "cell_type": "code",
   "execution_count": 5,
   "metadata": {},
   "outputs": [],
   "source": [
    "rdd = sc.parallelize([Row(a=1,\n",
    "                         b=2,\n",
    "                         c=3),\n",
    "                     Row(a=4,\n",
    "                        b=5,\n",
    "                        c=6),\n",
    "                     Row(a=7,\n",
    "                        b=8,\n",
    "                        c=9)])"
   ]
  },
  {
   "cell_type": "code",
   "execution_count": 10,
   "metadata": {},
   "outputs": [],
   "source": [
    "df = rdd.toDF()"
   ]
  },
  {
   "cell_type": "code",
   "execution_count": 13,
   "metadata": {},
   "outputs": [],
   "source": [
    "a = df.take(2)"
   ]
  },
  {
   "cell_type": "code",
   "execution_count": 14,
   "metadata": {},
   "outputs": [
    {
     "name": "stdout",
     "output_type": "stream",
     "text": [
      "[Row(a=1, b=2, c=3), Row(a=4, b=5, c=6)]\n"
     ]
    }
   ],
   "source": [
    "print(a)"
   ]
  },
  {
   "cell_type": "code",
   "execution_count": 20,
   "metadata": {},
   "outputs": [],
   "source": [
    "from pyspark.sql import DataFrameReader"
   ]
  },
  {
   "cell_type": "code",
   "execution_count": 23,
   "metadata": {},
   "outputs": [],
   "source": [
    "df_csv = spark.read.csv(\"cities.csv\")"
   ]
  },
  {
   "cell_type": "code",
   "execution_count": 25,
   "metadata": {},
   "outputs": [
    {
     "name": "stdout",
     "output_type": "stream",
     "text": [
      "+---+----------+--------------------+----------+----------+----------------+-------------+\n",
      "|_c0|       _c1|                 _c2|       _c3|       _c4|             _c5|          _c6|\n",
      "+---+----------+--------------------+----------+----------+----------------+-------------+\n",
      "| id|      name|              coords|start_year|  url_name|         country|country_state|\n",
      "|  5|  Aberdeen|  POINT(-2.15 57.15)|      2017|  aberdeen|        Scotland|         null|\n",
      "|  6|  Adelaide|POINT(138.6 -34.9...|      2017|  adelaide|       Australia|         null|\n",
      "|  7|   Algiers|POINT(3 36.83333333)|      2017|   algiers|         Algeria|         null|\n",
      "|  9|    Ankara|POINT(32.91666667...|      2017|    ankara|          Turkey|         null|\n",
      "| 16|     Belém|POINT(-48.4833333...|      2017|     belem|          Brazil|         null|\n",
      "| 10|  Asunción|POINT(-57.6666666...|      2017|  asuncion|        Paraguay|         null|\n",
      "| 11|    Athens|POINT(23.71666667...|      2017|    athens|          Greece|         null|\n",
      "| 12|  Auckland|POINT(174.75 -36....|      2017|  auckland|     New Zealand|         null|\n",
      "|211|    Ottawa|POINT(-75.7166666...|      2000|    ottawa|          Canada|         Ont.|\n",
      "| 17|   Belfast|POINT(-5.93333333...|      2017|   belfast|Northern Ireland|         null|\n",
      "| 18|  Belgrade|POINT(20.53333333...|      2017|  belgrade|          Serbia|         null|\n",
      "|273|St.-Brieuc|POINT(-2.78330326...|      2018|st.-brieuc|          France|         null|\n",
      "|274|   Poitier|POINT(0.333276529...|      2018|   poitier|          France|         null|\n",
      "|147|   Chicago|POINT(-87.6166666...|      1892|   chicago|   United States|         Ill.|\n",
      "|269|    Annecy|POINT(6.116670287...|      2018|    annecy|          France|         null|\n",
      "|270|    Roanne|POINT(4.066666218...|      2018|    roanne|          France|         null|\n",
      "|271|     Roura|POINT(-52.3300205...|      2018|     roura|          France|         null|\n",
      "|272| Sinnamary|POINT(-52.9599821...|      2018| sinnamary|          France|         null|\n",
      "|276|  Biarritz|POINT(-1.56159489...|      2018|  biarritz|          France|         null|\n",
      "+---+----------+--------------------+----------+----------+----------------+-------------+\n",
      "only showing top 20 rows\n",
      "\n"
     ]
    }
   ],
   "source": [
    "a = df_csv.show()"
   ]
  },
  {
   "cell_type": "code",
   "execution_count": 4,
   "metadata": {},
   "outputs": [],
   "source": [
    "from pyspark import SparkContext\n",
    "sc = SparkContext.getOrCreate()"
   ]
  },
  {
   "cell_type": "code",
   "execution_count": 1,
   "metadata": {},
   "outputs": [
    {
     "data": {
      "text/plain": [
       "[1, 2, 3]"
      ]
     },
     "execution_count": 1,
     "metadata": {},
     "output_type": "execute_result"
    }
   ],
   "source": [
    "num = sc.parallelize([1,2,3,4])\n",
    "num.take(3)\n",
    "# print(num)"
   ]
  },
  {
   "cell_type": "code",
   "execution_count": 4,
   "metadata": {},
   "outputs": [],
   "source": [
    "num_sqrt = num.map(lambda x: np.sqrt(x)).collect()"
   ]
  },
  {
   "cell_type": "code",
   "execution_count": 5,
   "metadata": {},
   "outputs": [
    {
     "name": "stdout",
     "output_type": "stream",
     "text": [
      "[1.0, 1.4142135623730951, 1.7320508075688772, 2.0]\n"
     ]
    }
   ],
   "source": [
    "print([x for x in num_sqrt])"
   ]
  },
  {
   "cell_type": "code",
   "execution_count": 6,
   "metadata": {},
   "outputs": [],
   "source": [
    "from pyspark.sql import Row\n",
    "from pyspark.sql import SQLContext\n",
    "\n",
    "sqlContext = SQLContext(sc)"
   ]
  },
  {
   "cell_type": "code",
   "execution_count": 9,
   "metadata": {},
   "outputs": [],
   "source": [
    "list_nameAge = [('Adi',20),('Budi',22),('Cecep',25),('Dodi',19)]\n",
    "rdd_nameAge = sc.parallelize(list_nameAge)\n",
    "map_rddNameAge = rdd_nameAge.map(lambda x: Row(name=x[0], age=int(x[1])))\n",
    "DF_nameAge = sqlContext.createDataFrame(map_rddNameAge)"
   ]
  },
  {
   "cell_type": "code",
   "execution_count": 10,
   "metadata": {},
   "outputs": [
    {
     "name": "stdout",
     "output_type": "stream",
     "text": [
      "+---+-----+\n",
      "|age| name|\n",
      "+---+-----+\n",
      "| 20|  Adi|\n",
      "| 22| Budi|\n",
      "| 25|Cecep|\n",
      "| 19| Dodi|\n",
      "+---+-----+\n",
      "\n"
     ]
    }
   ],
   "source": [
    "DF_nameAge.show()"
   ]
  },
  {
   "cell_type": "code",
   "execution_count": 11,
   "metadata": {},
   "outputs": [
    {
     "name": "stdout",
     "output_type": "stream",
     "text": [
      "root\n",
      " |-- age: long (nullable = true)\n",
      " |-- name: string (nullable = true)\n",
      "\n"
     ]
    }
   ],
   "source": [
    "DF_nameAge.printSchema()"
   ]
  },
  {
   "cell_type": "code",
   "execution_count": 14,
   "metadata": {},
   "outputs": [
    {
     "data": {
      "text/html": [
       "\n",
       "            <div>\n",
       "                <p><b>SparkSession - hive</b></p>\n",
       "                \n",
       "        <div>\n",
       "            <p><b>SparkContext</b></p>\n",
       "\n",
       "            <p><a href=\"http://10.0.2.15:4040\">Spark UI</a></p>\n",
       "\n",
       "            <dl>\n",
       "              <dt>Version</dt>\n",
       "                <dd><code>v2.4.5</code></dd>\n",
       "              <dt>Master</dt>\n",
       "                <dd><code>local[*]</code></dd>\n",
       "              <dt>AppName</dt>\n",
       "                <dd><code>PySparkShell</code></dd>\n",
       "            </dl>\n",
       "        </div>\n",
       "        \n",
       "            </div>\n",
       "        "
      ],
      "text/plain": [
       "<pyspark.sql.session.SparkSession at 0x7ffa346dffd0>"
      ]
     },
     "execution_count": 14,
     "metadata": {},
     "output_type": "execute_result"
    }
   ],
   "source": [
    "spark"
   ]
  },
  {
   "cell_type": "code",
   "execution_count": 9,
   "metadata": {},
   "outputs": [
    {
     "name": "stdout",
     "output_type": "stream",
     "text": [
      "1600590\n",
      "CPU times: user 5.22 s, sys: 90.3 ms, total: 5.31 s\n",
      "Wall time: 8.19 s\n"
     ]
    }
   ],
   "source": [
    "%%time\n",
    "\n",
    "from random import randint\n",
    "\n",
    "random_intList = [randint(0,1000) for i in range(0,2000000)]\n",
    "\n",
    "rdd_random = sc.parallelize(random_intList, numSlices=5)\n",
    "\n",
    "rdd_random_filter = rdd_random.filter(lambda x: x >= 200)\n",
    "\n",
    "# %%time\n",
    "\n",
    "print(rdd_random_filter.count())"
   ]
  },
  {
   "cell_type": "code",
   "execution_count": 11,
   "metadata": {},
   "outputs": [
    {
     "name": "stdout",
     "output_type": "stream",
     "text": [
      "['small', 'small', 'medium', 'small', 'medium']\n",
      "CPU times: user 5.2 s, sys: 124 ms, total: 5.33 s\n",
      "Wall time: 9.1 s\n"
     ]
    }
   ],
   "source": [
    "%%time\n",
    "\n",
    "from random import randint\n",
    "\n",
    "categories = ['small','medium']\n",
    "\n",
    "random_intList = [randint(0,1000) for i in range(0,2000000)]\n",
    "\n",
    "rdd_random = sc.parallelize(random_intList, numSlices=1)\n",
    "\n",
    "rdd_randCategories = rdd_random.map(lambda x: categories[0] if x >= 0 and x < 500 else categories[1]).collect()\n",
    "\n",
    "# rdd_random_filter = rdd_random.filter(lambda x: x >= 200)\n",
    "\n",
    "# print(rdd_random_filter.count())\n",
    "\n",
    "print(rdd_randCategories[0:5])"
   ]
  },
  {
   "cell_type": "code",
   "execution_count": 14,
   "metadata": {},
   "outputs": [],
   "source": [
    "def countDigit(num):\n",
    "    return(len(str(abs(num))))"
   ]
  },
  {
   "cell_type": "code",
   "execution_count": 17,
   "metadata": {},
   "outputs": [
    {
     "name": "stdout",
     "output_type": "stream",
     "text": [
      "[4, 4, 4, 4, 4, 4, 4, 4, 4, 4]\n",
      "[4117, 3427, 1990, 1612, 9985, 7956, 5734, 9393, 1411, 2757]\n"
     ]
    }
   ],
   "source": [
    "ran = [randint(0,9999) for i in range(0,1000000)]\n",
    "\n",
    "ran_1Million = sc.parallelize(ran)\n",
    "\n",
    "ran_countDigit = ran_1Million.map(lambda x: int(countDigit(x))).collect()\n",
    "\n",
    "print(ran_countDigit[0:10])\n",
    "print(ran_1Million.take(10))"
   ]
  },
  {
   "cell_type": "code",
   "execution_count": null,
   "metadata": {},
   "outputs": [],
   "source": []
  }
 ],
 "metadata": {
  "kernelspec": {
   "display_name": "Python 3",
   "language": "python",
   "name": "python3"
  },
  "language_info": {
   "codemirror_mode": {
    "name": "ipython",
    "version": 3
   },
   "file_extension": ".py",
   "mimetype": "text/x-python",
   "name": "python",
   "nbconvert_exporter": "python",
   "pygments_lexer": "ipython3",
   "version": "3.7.6"
  }
 },
 "nbformat": 4,
 "nbformat_minor": 4
}
